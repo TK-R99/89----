{
 "cells": [
  {
   "cell_type": "code",
   "execution_count": 1,
   "id": "622d68b2",
   "metadata": {},
   "outputs": [
    {
     "name": "stdout",
     "output_type": "stream",
     "text": [
      "WARNING:tensorflow:From C:\\Users\\huawei\\AppData\\Local\\Temp\\ipykernel_23160\\3886629952.py:3: The name tf.placeholder is deprecated. Please use tf.compat.v1.placeholder instead.\n",
      "\n",
      "WARNING:tensorflow:From C:\\Users\\huawei\\AppData\\Local\\Temp\\ipykernel_23160\\3886629952.py:7: The name tf.Session is deprecated. Please use tf.compat.v1.Session instead.\n",
      "\n",
      "[array([14.], dtype=float32)]\n"
     ]
    }
   ],
   "source": [
    "#tf的feed程序\n",
    "import tensorflow as tf\n",
    "\n",
    "input1 = tf.placeholder(tf.float32)\n",
    "input2 = tf.placeholder(tf.float32)\n",
    "output = tf.multiply(input1, input2)\n",
    "\n",
    "with tf.Session() as sess:\n",
    "    print(sess.run([output], feed_dict={input1:[7], input2:[2.]}))"
   ]
  },
  {
   "cell_type": "code",
   "execution_count": 3,
   "id": "e571e95b",
   "metadata": {},
   "outputs": [
    {
     "name": "stdout",
     "output_type": "stream",
     "text": [
      "[21.0, 7.0]\n"
     ]
    }
   ],
   "source": [
    "#tf的fetch程序\n",
    "import tensorflow as tf\n",
    "\n",
    "input1 = tf.constant(3.0)\n",
    "input2 = tf.constant(2.0)\n",
    "input3 = tf.constant(5.0)\n",
    "intermed = tf.add(input2, input3)\n",
    "mul = tf.multiply(input1, intermed)\n",
    "\n",
    "with tf.Session() as sess:\n",
    "    result = sess.run([mul, intermed])   #需要获取的多个 tensor 值，在 op 的一次运行中一起获得（而不是逐个去获取 tensor）。\n",
    "    print(result)"
   ]
  },
  {
   "cell_type": "code",
   "execution_count": 5,
   "id": "f612b22a",
   "metadata": {},
   "outputs": [
    {
     "name": "stdout",
     "output_type": "stream",
     "text": [
      "[7.0, 28]\n"
     ]
    }
   ],
   "source": [
    "#tf的fetch程序模仿\n",
    "import tensorflow as tf\n",
    "input1 = tf.constant(4)\n",
    "input2 = tf.constant(7)\n",
    "input3 = tf.constant(21)\n",
    "intermed = tf.add(input2, input3)\n",
    "div = tf.divide(intermed, input1)\n",
    "with tf.Session() as sess:\n",
    "    result = sess.run([div, intermed])\n",
    "    print(result)"
   ]
  },
  {
   "cell_type": "code",
   "execution_count": 7,
   "id": "5f7d2933",
   "metadata": {},
   "outputs": [
    {
     "name": "stdout",
     "output_type": "stream",
     "text": [
      "state 0\n",
      "update: 1\n",
      "update: 2\n",
      "update: 3\n",
      "update: 4\n",
      "update: 5\n"
     ]
    }
   ],
   "source": [
    "#tf_variable程序\n",
    "import tensorflow as tf\n",
    "\n",
    "state = tf.Variable(0, name = \"counter\")\n",
    "one = tf.constant(1)\n",
    "new_value = tf.add(state, one)\n",
    "update = tf.assign(state, new_value)\n",
    "\n",
    "init_op = tf.global_variables_initializer()\n",
    "with tf.Session() as sess:\n",
    "    sess.run(init_op)\n",
    "    print(\"state\", sess.run(state))\n",
    "    for _ in range(5):\n",
    "        sess.run(update)\n",
    "        print(\"update:\", sess.run(state))"
   ]
  },
  {
   "cell_type": "code",
   "execution_count": 2,
   "id": "ddd89098",
   "metadata": {},
   "outputs": [
    {
     "name": "stdout",
     "output_type": "stream",
     "text": [
      "[[12.]]\n"
     ]
    },
    {
     "data": {
      "text/plain": [
       "'\\nsession对象在使用完后需要关闭以释放资源. 除了显式调用 close 外, 也可以使用 “with” 代码块来自动完成关闭动作.\\n\\nwith tf.Session() as sess:\\n  result = sess.run([product])\\n  print (result)\\n'"
      ]
     },
     "execution_count": 2,
     "metadata": {},
     "output_type": "execute_result"
    }
   ],
   "source": [
    "#tf的graph\n",
    "import tensorflow as tf\n",
    "\n",
    "\n",
    "# 构造器的返回值代表该常量 op 的返回值.\n",
    "matrix1 = tf.constant([[3., 3.]])\n",
    "# 创建另外一个常量 op, 产生一个 2x1 矩阵.\n",
    "matrix2 = tf.constant([[2.],[2.]])\n",
    "\n",
    "# 创建一个矩阵乘法 matmul op , 把 'matrix1' 和 'matrix2' 作为输入.\n",
    "# 返回值 'product' 代表矩阵乘法的结果.\n",
    "product = tf.matmul(matrix1, matrix2)\n",
    "\n",
    "'''\n",
    "默认图现在有三个节点, 两个 constant() op, 和一个matmul() op. \n",
    "为了真正进行矩阵相乘运算, 并得到矩阵乘法的结果, 必须在会话里启动这个图.\n",
    "启动图的第一步是创建一个 Session 对象, 如果无任何创建参数, 会话构造器将启动默认图.\n",
    "'''\n",
    "# 启动默认图.\n",
    "sess = tf.Session()\n",
    "\n",
    "# 调用 sess 的 'run()' 方法来执行矩阵乘法 op, 传入 'product' 作为该方法的参数. \n",
    "# 'product' 代表了矩阵乘法 op 的输出, 传入它是向方法表明, 我们希望取回矩阵乘法 op 的输出.\n",
    "#\n",
    "# 整个执行过程是自动化的, 会话负责传递 op 所需的全部输入. op 通常是并发执行的.\n",
    "# \n",
    "# 函数调用 'run(product)' 触发了图中三个 op (两个常量 op 和一个矩阵乘法 op) 的执行.\n",
    "#\n",
    "# 返回值 'result' 是一个 numpy `ndarray` 对象.\n",
    "result = sess.run(product)\n",
    "print(result)\n",
    "# ==> [[ 12.]]\n",
    "\n",
    "# 任务完成, 关闭会话.\n",
    "sess.close()\n",
    "'''\n",
    "session对象在使用完后需要关闭以释放资源. 除了显式调用 close 外, 也可以使用 “with” 代码块来自动完成关闭动作.\n",
    "\n",
    "with tf.Session() as sess:\n",
    "  result = sess.run([product])\n",
    "  print (result)\n",
    "'''\n"
   ]
  },
  {
   "cell_type": "code",
   "execution_count": 3,
   "id": "c54441fb",
   "metadata": {},
   "outputs": [
    {
     "name": "stdout",
     "output_type": "stream",
     "text": [
      "WARNING:tensorflow:From C:\\Users\\huawei\\AppData\\Local\\Temp\\ipykernel_23160\\2995306032.py:7: The name tf.random_uniform is deprecated. Please use tf.random.uniform instead.\n",
      "\n",
      "WARNING:tensorflow:From C:\\Users\\huawei\\AppData\\Local\\Temp\\ipykernel_23160\\2995306032.py:11: The name tf.summary.FileWriter is deprecated. Please use tf.compat.v1.summary.FileWriter instead.\n",
      "\n",
      "WARNING:tensorflow:From C:\\Users\\huawei\\AppData\\Local\\Temp\\ipykernel_23160\\2995306032.py:11: The name tf.get_default_graph is deprecated. Please use tf.compat.v1.get_default_graph instead.\n",
      "\n"
     ]
    }
   ],
   "source": [
    "#tf的tensorboard程序\n",
    "import tensorflow as tf  \n",
    "\n",
    "# 定义一个计算图，实现两个向量的减法操作  \n",
    "# 定义两个输入，a为常量，b为变量  \n",
    "a=tf.constant([10.0, 20.0, 40.0], name='a')  \n",
    "b=tf.Variable(tf.random_uniform([3]), name='b')  \n",
    "output=tf.add_n([a,b], name='add')  \n",
    "\n",
    "# 生成一个具有写权限的日志文件操作对象，将当前命名空间的计算图写进日志中  \n",
    "writer=tf.summary.FileWriter('logs', tf.get_default_graph()) \n",
    "writer.close()\n",
    "\n",
    "#启动tensorboard服务（在命令行启动）\n",
    "#tensorboard --logdir logs\n",
    "\n",
    "#启动tensorboard服务后，复制地址并在本地浏览器中打开，"
   ]
  },
  {
   "cell_type": "code",
   "execution_count": 4,
   "id": "4de03138",
   "metadata": {},
   "outputs": [
    {
     "name": "stdout",
     "output_type": "stream",
     "text": [
      "ERROR! Session/line number was not unique in database. History logging moved to new session 334\n",
      "WARNING:tensorflow:From C:\\Users\\huawei\\AppData\\Local\\Temp\\ipykernel_23160\\1807838934.py:15: The name tf.random_normal is deprecated. Please use tf.random.normal instead.\n",
      "\n"
     ]
    },
    {
     "name": "stderr",
     "output_type": "stream",
     "text": [
      "WARNING:tensorflow:From C:\\Users\\huawei\\AppData\\Local\\Temp\\ipykernel_23160\\1807838934.py:15: The name tf.random_normal is deprecated. Please use tf.random.normal instead.\n",
      "\n"
     ]
    },
    {
     "name": "stdout",
     "output_type": "stream",
     "text": [
      "WARNING:tensorflow:From C:\\Users\\huawei\\AppData\\Local\\Temp\\ipykernel_23160\\1807838934.py:29: The name tf.train.GradientDescentOptimizer is deprecated. Please use tf.compat.v1.train.GradientDescentOptimizer instead.\n",
      "\n"
     ]
    },
    {
     "name": "stderr",
     "output_type": "stream",
     "text": [
      "WARNING:tensorflow:From C:\\Users\\huawei\\AppData\\Local\\Temp\\ipykernel_23160\\1807838934.py:29: The name tf.train.GradientDescentOptimizer is deprecated. Please use tf.compat.v1.train.GradientDescentOptimizer instead.\n",
      "\n"
     ]
    },
    {
     "name": "stdout",
     "output_type": "stream",
     "text": [
      "WARNING:tensorflow:From C:\\Users\\huawei\\AppData\\Local\\Temp\\ipykernel_23160\\1807838934.py:33: The name tf.global_variables_initializer is deprecated. Please use tf.compat.v1.global_variables_initializer instead.\n",
      "\n"
     ]
    },
    {
     "name": "stderr",
     "output_type": "stream",
     "text": [
      "WARNING:tensorflow:From C:\\Users\\huawei\\AppData\\Local\\Temp\\ipykernel_23160\\1807838934.py:33: The name tf.global_variables_initializer is deprecated. Please use tf.compat.v1.global_variables_initializer instead.\n",
      "\n"
     ]
    },
    {
     "data": {
      "image/png": "[encoded data removed]",
      "text/plain": [
       "<Figure size 640x480 with 1 Axes>"
      ]
     },
     "metadata": {},
     "output_type": "display_data"
    }
   ],
   "source": [
    "import tensorflow as tf\n",
    "import numpy as np\n",
    "import matplotlib.pyplot as plt\n",
    " \n",
    "#使用numpy生成200个随机点\n",
    "x_data=np.linspace(-0.5,0.5,200)[:,np.newaxis]\n",
    "noise=np.random.normal(0,0.02,x_data.shape)\n",
    "y_data=np.square(x_data)+noise\n",
    " \n",
    "#定义两个placeholder存放输入数据\n",
    "x=tf.placeholder(tf.float32,[None,1])\n",
    "y=tf.placeholder(tf.float32,[None,1])\n",
    " \n",
    "#定义神经网络中间层\n",
    "Weights_L1=tf.Variable(tf.random_normal([1,10]))\n",
    "biases_L1=tf.Variable(tf.zeros([1,10]))    #加入偏置项\n",
    "Wx_plus_b_L1=tf.matmul(x,Weights_L1)+biases_L1\n",
    "L1=tf.nn.tanh(Wx_plus_b_L1)   #加入激活函数\n",
    "\n",
    "#定义神经网络输出层\n",
    "Weights_L2=tf.Variable(tf.random_normal([10,1]))\n",
    "biases_L2=tf.Variable(tf.zeros([1,1]))  #加入偏置项\n",
    "Wx_plus_b_L2=tf.matmul(L1,Weights_L2)+biases_L2\n",
    "prediction=tf.nn.tanh(Wx_plus_b_L2)   #加入激活函数\n",
    "\n",
    "#定义损失函数（均方差函数）\n",
    "loss=tf.reduce_mean(tf.square(y-prediction))\n",
    "#定义反向传播算法（使用梯度下降算法训练）\n",
    "train_step=tf.train.GradientDescentOptimizer(0.1).minimize(loss)\n",
    " \n",
    "with tf.Session() as sess:\n",
    "    #变量初始化\n",
    "    sess.run(tf.global_variables_initializer())\n",
    "    #训练2000次\n",
    "    for i in range(2000):\n",
    "        sess.run(train_step,feed_dict={x:x_data,y:y_data})\n",
    " \n",
    "    #获得预测值\n",
    "    prediction_value=sess.run(prediction,feed_dict={x:x_data})\n",
    " \n",
    "    #画图\n",
    "    plt.figure()\n",
    "    plt.scatter(x_data,y_data)   #散点是真实值\n",
    "    plt.plot(x_data,prediction_value,'r-',lw=5)   #曲线是预测值\n",
    "    plt.show()\n",
    "\n"
   ]
  },
  {
   "cell_type": "code",
   "execution_count": null,
   "id": "4e39ddaf",
   "metadata": {},
   "outputs": [],
   "source": []
  }
 ],
 "metadata": {
  "kernelspec": {
   "display_name": "Python 3 (ipykernel)",
   "language": "python",
   "name": "python3"
  },
  "language_info": {
   "codemirror_mode": {
    "name": "ipython",
    "version": 3
   },
   "file_extension": ".py",
   "mimetype": "text/x-python",
   "name": "python",
   "nbconvert_exporter": "python",
   "pygments_lexer": "ipython3",
   "version": "3.7.1"
  },
  "toc": {
   "base_numbering": 1,
   "nav_menu": {},
   "number_sections": true,
   "sideBar": true,
   "skip_h1_title": false,
   "title_cell": "Table of Contents",
   "title_sidebar": "Contents",
   "toc_cell": false,
   "toc_position": {},
   "toc_section_display": true,
   "toc_window_display": false
  }
 },
 "nbformat": 4,
 "nbformat_minor": 5
}
