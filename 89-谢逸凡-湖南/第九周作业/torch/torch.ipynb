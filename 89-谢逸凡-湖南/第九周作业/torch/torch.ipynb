{
 "cells": [
  {
   "cell_type": "code",
   "execution_count": 1,
   "id": "6f78f048",
   "metadata": {},
   "outputs": [
    {
     "data": {
      "text/plain": [
       "tensor(2.0287, grad_fn=<SumBackward0>)"
      ]
     },
     "execution_count": 1,
     "metadata": {},
     "output_type": "execute_result"
    }
   ],
   "source": [
    "#-------------自动求导\n",
    "import torch\n",
    "\n",
    "x = torch.randn((4, 4), requires_grad=True)\n",
    "y = 2 * x\n",
    "z = y.sum()\n",
    "z"
   ]
  },
  {
   "cell_type": "code",
   "execution_count": null,
   "id": "b840f8c9",
   "metadata": {},
   "outputs": [],
   "source": [
    "x"
   ]
  },
  {
   "cell_type": "code",
   "execution_count": null,
   "id": "6a006ec4",
   "metadata": {},
   "outputs": [],
   "source": [
    "y"
   ]
  },
  {
   "cell_type": "code",
   "execution_count": null,
   "id": "b6cbd18a",
   "metadata": {},
   "outputs": [],
   "source": [
    "z"
   ]
  },
  {
   "cell_type": "code",
   "execution_count": null,
   "id": "348e03c6",
   "metadata": {},
   "outputs": [],
   "source": [
    "z.backward()"
   ]
  },
  {
   "cell_type": "code",
   "execution_count": null,
   "id": "974868ad",
   "metadata": {},
   "outputs": [],
   "source": [
    "x.grad"
   ]
  },
  {
   "cell_type": "code",
   "execution_count": 6,
   "id": "9e342813",
   "metadata": {},
   "outputs": [],
   "source": [
    "#------------------容器\n",
    "# 方法1\n",
    "import torch.nn as nn\n",
    "model = nn.Sequential()\n",
    "model.add_module('fc1', nn.Linear(3,4))\n",
    "model.add_module('fc2', nn.Linear(4,2))\n",
    "model.add_module('output', nn.Softmax(2))"
   ]
  },
  {
   "cell_type": "code",
   "execution_count": 7,
   "id": "f43aee60",
   "metadata": {},
   "outputs": [
    {
     "name": "stdout",
     "output_type": "stream",
     "text": [
      "Sequential(\n",
      "  (0): Linear(in_features=784, out_features=32, bias=True)\n",
      "  (1): ReLU()\n",
      "  (2): Linear(in_features=32, out_features=10, bias=True)\n",
      "  (3): Softmax(dim=1)\n",
      ")\n",
      "\n",
      "显示网络模型参数\n",
      "<bound method Module.parameters of Sequential(\n",
      "  (0): Linear(in_features=784, out_features=32, bias=True)\n",
      "  (1): ReLU()\n",
      "  (2): Linear(in_features=32, out_features=10, bias=True)\n",
      "  (3): Softmax(dim=1)\n",
      ")>\n",
      "\n",
      "定义神经网络样本输入\n",
      "torch.Size([2, 28, 28, 1])\n",
      "\n",
      "使用神经网络进行预测\n",
      "tensor([[0.0939, 0.0785, 0.1250, 0.0760, 0.0913, 0.0837, 0.1128, 0.0987, 0.1093,\n",
      "         0.1309],\n",
      "        [0.0797, 0.0811, 0.1232, 0.0669, 0.1504, 0.0632, 0.0911, 0.1549, 0.0669,\n",
      "         0.1225]], grad_fn=<SoftmaxBackward0>)\n"
     ]
    }
   ],
   "source": [
    "#以参数列表的方式来定义\n",
    "import torch.nn as nn\n",
    "model_c = nn.Sequential(\n",
    "                    nn.Linear(28*28, 32),\n",
    "                    nn.ReLU(),\n",
    "                    nn.Linear(32, 10),\n",
    "                    nn.Softmax(dim=1),\n",
    "                        )\n",
    "print(model_c)\n",
    "print(\"\\n显示网络模型参数\")\n",
    "print(model_c.parameters)\n",
    "\n",
    "print(\"\\n定义神经网络样本输入\")\n",
    "x_input = torch.randn(2, 28, 28, 1)\n",
    "print(x_input.shape)\n",
    "print(\"\\n使用神经网络进行预测\")\n",
    "y_pred = model_c.forward(x_input.view(x_input.size()[0], -1))\n",
    "print(y_pred)"
   ]
  },
  {
   "cell_type": "code",
   "execution_count": 9,
   "id": "e9be20f7",
   "metadata": {},
   "outputs": [
    {
     "ename": "NameError",
     "evalue": "name 'net' is not defined",
     "output_type": "error",
     "traceback": [
      "\u001b[1;31m---------------------------------------------------------------------------\u001b[0m",
      "\u001b[1;31mNameError\u001b[0m                                 Traceback (most recent call last)",
      "Cell \u001b[1;32mIn[9], line 1\u001b[0m\n\u001b[1;32m----> 1\u001b[0m \u001b[38;5;28mprint\u001b[39m(net)\n",
      "\u001b[1;31mNameError\u001b[0m: name 'net' is not defined"
     ]
    }
   ],
   "source": [
    "print(net)"
   ]
  },
  {
   "cell_type": "code",
   "execution_count": 3,
   "id": "fcc1b08f",
   "metadata": {},
   "outputs": [
    {
     "data": {
      "text/plain": [
       "'\\nimport torch.nn as nn\\n#以字典的方式实例化\\nmodel = nn.Sequential(OrderedDict([(\\'h1\\', nn.Linear(28*28, 32)),\\n                                (\\'relu1\\', nn.ReLU()),\\n                                 (\\'out\\', nn.Linear(32, 10)),\\n                                (\\'softmax\\', nn.Softmax(dim=1))]))\\nprint(model)\\nprint(\"\\n定义神经网络样本输入\")\\nx_input = torch.randn(2, 28, 28, 1)\\nprint(x_input.shape)\\nprint(x_input.shape)\\nprint(\"\\n使用神经网络进行预测\")\\ny_pred = model.forward(x_input.view(x_input.size()[0], -1))\\nprint(y_pred)\\n'"
      ]
     },
     "execution_count": 3,
     "metadata": {},
     "output_type": "execute_result"
    }
   ],
   "source": [
    "\"\"\"\n",
    "import torch.nn as nn\n",
    "#以字典的方式实例化\n",
    "model = nn.Sequential(OrderedDict([('h1', nn.Linear(28*28, 32)),\n",
    "                                ('relu1', nn.ReLU()),\n",
    "                                 ('out', nn.Linear(32, 10)),\n",
    "                                ('softmax', nn.Softmax(dim=1))]))\n",
    "print(model)\n",
    "print(\"\\n定义神经网络样本输入\")\n",
    "x_input = torch.randn(2, 28, 28, 1)\n",
    "print(x_input.shape)\n",
    "print(x_input.shape)\n",
    "print(\"\\n使用神经网络进行预测\")\n",
    "y_pred = model.forward(x_input.view(x_input.size()[0], -1))\n",
    "print(y_pred)\n",
    "\"\"\""
   ]
  },
  {
   "cell_type": "code",
   "execution_count": 4,
   "id": "9a418298",
   "metadata": {},
   "outputs": [],
   "source": [
    "import torch\n",
    "model2 = nn.Sequential(\n",
    "         nn.Conv2d(1, 20, 5),\n",
    "         nn.ReLU(),\n",
    "         nn.Conv2d(20, 64, 5),\n",
    "         nn.ReLU()\n",
    "         )"
   ]
  },
  {
   "cell_type": "code",
   "execution_count": 5,
   "id": "3d27d335",
   "metadata": {},
   "outputs": [],
   "source": [
    "model3 = nn.ModuleList([nn.Linear(3,4), nn.ReLU(), nn.Linear(4,2)])"
   ]
  },
  {
   "cell_type": "code",
   "execution_count": 14,
   "id": "5b6d1568",
   "metadata": {},
   "outputs": [
    {
     "name": "stdout",
     "output_type": "stream",
     "text": [
      "11 <bound method Linear.forward of Linear()>\n"
     ]
    }
   ],
   "source": [
    "#Linear模型\n",
    "import torch\n",
    "class Linear(torch.nn.Module):\n",
    "    def __init__(self, in_features, out_features, bias = True):\n",
    "        super(Linear, self).__init__()\n",
    "        self.weight = torch.nn.Parameter(torch.randn(out_features, in_features))\n",
    "        if bias:\n",
    "            self.bias = torch.nn.Parameter(torch.randn(out_features))\n",
    "    def forward(self, x):\n",
    "        x = x.mm(self.weight)\n",
    "        if self.bias:\n",
    "            x + x + self.bias.expand_as(x)\n",
    "        return x\n",
    "\n",
    "if __name__ == '__main__':\n",
    "    # train for mnist\n",
    "    net = Linear(3,2)\n",
    "    x = net.forward\n",
    "    print('11',x)\n"
   ]
  },
  {
   "cell_type": "code",
   "execution_count": null,
   "id": "94bc1e45",
   "metadata": {},
   "outputs": [
    {
     "name": "stdout",
     "output_type": "stream",
     "text": [
      "[epoch 1, 0.00%] loss: 0.023\n",
      "[epoch 1, 0.05%] loss: 1.805\n",
      "[epoch 1, 0.11%] loss: 1.587\n",
      "[epoch 1, 0.16%] loss: 1.564\n",
      "[epoch 1, 0.21%] loss: 1.555\n",
      "[epoch 1, 0.27%] loss: 1.541\n",
      "[epoch 1, 0.32%] loss: 1.537\n",
      "[epoch 1, 0.37%] loss: 1.531\n",
      "[epoch 1, 0.43%] loss: 1.529\n",
      "[epoch 1, 0.48%] loss: 1.528\n",
      "[epoch 1, 0.53%] loss: 1.530\n",
      "[epoch 1, 0.59%] loss: 1.521\n"
     ]
    }
   ],
   "source": [
    "#mnistnet网络构建\n",
    "import torch\n",
    "import torch.nn as nn\n",
    "import torch.optim as optim\n",
    "import torch.nn.functional as F\n",
    "import torchvision\n",
    "import torchvision.transforms as transforms\n",
    "\n",
    "class Model:\n",
    "    def __init__(self, net, cost, optimist):\n",
    "        self.net = net\n",
    "        self.cost = self.create_cost(cost)\n",
    "        self.optimizer = self.create_optimizer(optimist)\n",
    "        pass\n",
    "    \n",
    "    def create_cost(self, cost):\n",
    "        support_cost = {\n",
    "            'CROSS_ENTROPY': nn.CrossEntropyLoss(),\n",
    "            'MSE': nn.MSELoss()\n",
    "        }\n",
    "        return support_cost[cost]\n",
    "    \n",
    "    def create_optimizer(self, optimist, **rests):\n",
    "        support_optim = {\n",
    "            'SGD': optim.SGD(self.net.parameters(), lr = 0.1, **rests),\n",
    "            'ADAM': optim.Adam(self.net.parameters(), lr = 0.01, **rests),\n",
    "            'RMSP': optim.RMSprop(self.net.parameters(), lr = 0.001, **rests)\n",
    "        }\n",
    "        return support_optim[optimist]\n",
    "    \n",
    "    def train(self, train_loader, epoches=3):\n",
    "        for epoch in range(epoches):\n",
    "            running_loss = 0.0\n",
    "            for i, data in enumerate(train_loader, 0):\n",
    "                inputs, labels = data\n",
    "                self.optimizer.zero_grad()\n",
    "                outputs = self.net(inputs)\n",
    "                loss = self.cost(outputs, labels)\n",
    "                loss.backward()\n",
    "                self.optimizer.step()\n",
    "                running_loss += loss.item()\n",
    "                if i % 100 == 0:\n",
    "                    print('[epoch %d, %.2f%%] loss: %.3f' %\n",
    "                         (epoch + 1, (i + 1)*1./len(train_loader), running_loss / 100))\n",
    "                    running_loss = 0.0\n",
    "            print('Finished Training')\n",
    "    \n",
    "    def evaluate(self, test_loader):\n",
    "        print('Evaluating ...')\n",
    "        correct = 0\n",
    "        total = 0\n",
    "        with torch.no_grad():\n",
    "            for data in test_loader:\n",
    "                images, labels = data\n",
    "                outputs = self.net(images)\n",
    "                predicted = torch.argmax(outputs, 1)\n",
    "                total += labels.size(0)\n",
    "                correct += (predicted == labels).sum().item()\n",
    "        print('Accuracy of the network on the test images: %d %%' % (100 * correct / total))\n",
    "\n",
    "def mnist_load_data():\n",
    "    transform = transforms.Compose(\n",
    "        [transforms.ToTensor(),\n",
    "         transforms.Normalize([0,], [1,])])\n",
    "\n",
    "    trainset = torchvision.datasets.MNIST(root='./data', train=True,\n",
    "                                            download=True, transform=transform)\n",
    "    trainloader = torch.utils.data.DataLoader(trainset, batch_size=32,\n",
    "                                              shuffle=True, num_workers=2)\n",
    "\n",
    "    testset = torchvision.datasets.MNIST(root='./data', train=False,\n",
    "                                           download=True, transform=transform)\n",
    "    testloader = torch.utils.data.DataLoader(testset, batch_size=32,shuffle=True, num_workers=2)\n",
    "    return trainloader, testloader\n",
    "\n",
    "class MnistNet(torch.nn.Module):\n",
    "    def __init__(self):\n",
    "        super(MnistNet, self).__init__()\n",
    "        self.fc1 = torch.nn.Linear(28*28, 512)\n",
    "        self.fc2 = torch.nn.Linear(512, 512)\n",
    "        self.fc3 = torch.nn.Linear(512, 10)\n",
    "    \n",
    "    def forward(self, x):\n",
    "        x = x.view(-1, 28*28)\n",
    "        x = F.relu(self.fc1(x))\n",
    "        x = F.relu(self.fc2(x))\n",
    "        x = F.softmax(self.fc3(x), dim=1)\n",
    "        return x\n",
    "\n",
    "if __name__ == '__main__':\n",
    "    net = MnistNet()\n",
    "    model = Model(net, 'CROSS_ENTROPY', 'RMSP')\n",
    "    train_loader, test_loader = mnist_load_data()\n",
    "    model.train(train_loader)\n",
    "    model.evaluate(test_loader)"
   ]
  },
  {
   "cell_type": "code",
   "execution_count": null,
   "id": "1946b01a",
   "metadata": {},
   "outputs": [],
   "source": []
  }
 ],
 "metadata": {
  "kernelspec": {
   "display_name": "Python 3 (ipykernel)",
   "language": "python",
   "name": "python3"
  },
  "language_info": {
   "codemirror_mode": {
    "name": "ipython",
    "version": 3
   },
   "file_extension": ".py",
   "mimetype": "text/x-python",
   "name": "python",
   "nbconvert_exporter": "python",
   "pygments_lexer": "ipython3",
   "version": "3.11.5"
  },
  "toc": {
   "base_numbering": 1,
   "nav_menu": {},
   "number_sections": true,
   "sideBar": true,
   "skip_h1_title": false,
   "title_cell": "Table of Contents",
   "title_sidebar": "Contents",
   "toc_cell": false,
   "toc_position": {},
   "toc_section_display": true,
   "toc_window_display": false
  }
 },
 "nbformat": 4,
 "nbformat_minor": 5
}
